{
  "metadata" : {
    "id" : "2a95b8aa-6c17-4752-a547-1b597763fc22",
    "name" : "movies_recommender",
    "user_save_timestamp" : "1970-01-01T00:00:00.000Z",
    "auto_save_timestamp" : "1970-01-01T00:00:00.000Z",
    "language_info" : {
      "name" : "scala",
      "file_extension" : "scala",
      "codemirror_mode" : "text/x-scala"
    },
    "trusted" : true,
    "sparkNotebook" : null,
    "customLocalRepo" : null,
    "customRepos" : null,
    "customDeps" : null,
    "customImports" : null,
    "customArgs" : null,
    "customSparkConf" : null,
    "customVars" : null
  },
  "cells" : [ {
    "metadata" : {
      "id" : "E739EC8B30384F4E926C30C00073999B"
    },
    "cell_type" : "markdown",
    "source" : "## Build the recommender as in:\n\nhttps://spark.apache.org/docs/2.3.0/ml-collaborative-filtering.html"
  }, {
    "metadata" : {
      "trusted" : true,
      "input_collapsed" : false,
      "collapsed" : false,
      "id" : "6579D035DADD414497514C36297B857D"
    },
    "cell_type" : "code",
    "source" : [ "val remote = \"http://files.grouplens.org/datasets/movielens/ml-latest-small.zip\"\n", "val simple = \"https://raw.githubusercontent.com/apache/spark/master/data/mllib/als/sample_movielens_ratings.txt\"\n", "val local = \"ml-latest-small.zip\"" ],
    "outputs" : [ ]
  }, {
    "metadata" : {
      "trusted" : true,
      "input_collapsed" : false,
      "collapsed" : true,
      "id" : "DABBB05302CA42129BE293E854E91717"
    },
    "cell_type" : "code",
    "source" : [ "val dataDir = sys.props(\"java.io.tmpdir\") + \"/data/als\"\n", "new java.io.File(dataDir).mkdirs()" ],
    "outputs" : [ ]
  }, {
    "metadata" : {
      "trusted" : true,
      "input_collapsed" : false,
      "collapsed" : false,
      "id" : "9F6F9A7F3908479FB4EFEB1AB2DDECFC"
    },
    "cell_type" : "code",
    "source" : [ ":sh wget $simple -O $dataDir/sample_movielens_ratings.txt" ],
    "outputs" : [ ]
  }, {
    "metadata" : {
      "trusted" : true,
      "input_collapsed" : false,
      "collapsed" : true,
      "id" : "8F21E1EC873744D38C30DD3EEDA852CE"
    },
    "cell_type" : "code",
    "source" : [ ":sh wget $remote " ],
    "outputs" : [ ]
  }, {
    "metadata" : {
      "trusted" : true,
      "input_collapsed" : false,
      "collapsed" : true,
      "id" : "9925F850904D4A2298931178EC205928"
    },
    "cell_type" : "code",
    "source" : [ ":sh unzip ml-latest-small.zip -d $dataDir/" ],
    "outputs" : [ ]
  }, {
    "metadata" : {
      "trusted" : true,
      "input_collapsed" : false,
      "collapsed" : true,
      "id" : "2F6010CECB6A4D22BBE2B606546A840C"
    },
    "cell_type" : "code",
    "source" : [ ":sh mv ml-latest-small.zip $dataDir/\n" ],
    "outputs" : [ ]
  }, {
    "metadata" : {
      "trusted" : true,
      "input_collapsed" : false,
      "collapsed" : true,
      "id" : "182907BBC57D46C781E81C52C16FBDB4"
    },
    "cell_type" : "code",
    "source" : [ ":sh ls -l $dataDir" ],
    "outputs" : [ ]
  }, {
    "metadata" : {
      "trusted" : true,
      "input_collapsed" : false,
      "collapsed" : true,
      "id" : "CA95996F998D4EE98D3F09FB352B4BD6"
    },
    "cell_type" : "code",
    "source" : [ "" ],
    "outputs" : [ ]
  }, {
    "metadata" : {
      "trusted" : true,
      "input_collapsed" : false,
      "collapsed" : true,
      "id" : "204CF212766347A3B0ABBD426EE2D856"
    },
    "cell_type" : "code",
    "source" : [ "wget https://raw.githubusercontent.com/apache/spark/master/data/mllib/als/sample_movielens_ratings.txt" ],
    "outputs" : [ ]
  } ],
  "nbformat" : 4
}